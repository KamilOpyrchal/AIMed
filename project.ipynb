{
 "cells": [
  {
   "cell_type": "code",
   "execution_count": 19,
   "id": "4fe7833d-e989-4237-aa0f-fe749c51e877",
   "metadata": {},
   "outputs": [],
   "source": [
    "import pandas as pd\n",
    "from sklearn.model_selection import train_test_split"
   ]
  },
  {
   "cell_type": "code",
   "execution_count": 21,
   "id": "d19724b7-1e70-4bdc-aa61-3b825d29a9b3",
   "metadata": {},
   "outputs": [],
   "source": [
    "data = pd.read_csv(\"task_data.csv\")\n",
    "X = data[[\"ID\", \"Heart width\", \"Lung width\", \"CTR - Cardiothoracic Ratio\", \"xx\", \"yy\", \"xy\", \"normalized_diff\", \"Inscribed circle radius\", \"Polygon Area Ratio\", \"Heart perimeter\", \"Heart area \", \"Lung area\"]]\n",
    "y = data[\"Cardiomegaly\"]\n",
    "X_train, X_test, Y_train, Y_test = train_test_split(X, y, test_size=0.2, random_state=5)"
   ]
  },
  {
   "cell_type": "code",
   "execution_count": null,
   "id": "b2766dbd-d91c-489d-9bef-9e3d015da955",
   "metadata": {},
   "outputs": [],
   "source": []
  },
  {
   "cell_type": "code",
   "execution_count": null,
   "id": "0f023e73-5d64-4133-9dde-26fb31ac14c9",
   "metadata": {},
   "outputs": [],
   "source": []
  },
  {
   "cell_type": "code",
   "execution_count": null,
   "id": "aa6dba43-c775-45af-92f7-4b471d6940c4",
   "metadata": {},
   "outputs": [],
   "source": []
  }
 ],
 "metadata": {
  "kernelspec": {
   "display_name": "Python [conda env:base] *",
   "language": "python",
   "name": "conda-base-py"
  },
  "language_info": {
   "codemirror_mode": {
    "name": "ipython",
    "version": 3
   },
   "file_extension": ".py",
   "mimetype": "text/x-python",
   "name": "python",
   "nbconvert_exporter": "python",
   "pygments_lexer": "ipython3",
   "version": "3.13.5"
  }
 },
 "nbformat": 4,
 "nbformat_minor": 5
}
